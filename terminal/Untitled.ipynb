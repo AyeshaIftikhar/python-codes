{
 "cells": [
  {
   "cell_type": "code",
   "execution_count": 3,
   "metadata": {},
   "outputs": [
    {
     "ename": "SyntaxError",
     "evalue": "invalid syntax (<ipython-input-3-92d3738c70fe>, line 1)",
     "output_type": "error",
     "traceback": [
      "\u001b[1;36m  File \u001b[1;32m\"<ipython-input-3-92d3738c70fe>\"\u001b[1;36m, line \u001b[1;32m1\u001b[0m\n\u001b[1;33m    <input/>  - the current input sentence\u001b[0m\n\u001b[1;37m    ^\u001b[0m\n\u001b[1;31mSyntaxError\u001b[0m\u001b[1;31m:\u001b[0m invalid syntax\n"
     ]
    }
   ],
   "source": [
    "<input/>  #- the current input sentence\n",
    "\n",
    "<input index=\"2\"/> #- the previous input sentence\n",
    "\n",
    "<input index=\"N\"/>#- the Nth previous input sentence.\n",
    "\n",
    "<request/> = <request index=\"1\"/> #- the client’s last input request, consisting\n",
    "#of one or more input sentences.\n",
    "\n",
    "<request index=\"2\"/> #- the client’s 2nd to last input request.\n",
    "\n",
    "<request index=\"N\"/> #- the client’s Nth to last input request.\n",
    "\n",
    "<response/> = <response index=\"1\"/> #- the bot’s last response, consisting of\n",
    "# one or more sentences.\n",
    "\n",
    "<response index=\"2\"/> #- the bot’s second to last response.\n",
    "\n",
    "<response index=\"N\"/># - the bot’s Nth to last response.\n",
    "\n",
    "<that/> = <that index=\"1,1\"/> #- the last sentence the bot uttered.\n",
    "\n",
    "<that index=\"1,2\"/> #- the 2nd to last sentence in <response index=\"1\"/>,\n",
    "provided it exists.\n",
    "\n",
    "<that index=\"2,1\"/> #- The last sentence of <response index=\"2\"/>."
   ]
  },
  {
   "cell_type": "code",
   "execution_count": null,
   "metadata": {},
   "outputs": [],
   "source": []
  }
 ],
 "metadata": {
  "kernelspec": {
   "display_name": "Python 3",
   "language": "python",
   "name": "python3"
  },
  "language_info": {
   "codemirror_mode": {
    "name": "ipython",
    "version": 3
   },
   "file_extension": ".py",
   "mimetype": "text/x-python",
   "name": "python",
   "nbconvert_exporter": "python",
   "pygments_lexer": "ipython3",
   "version": "3.7.8"
  }
 },
 "nbformat": 4,
 "nbformat_minor": 4
}
