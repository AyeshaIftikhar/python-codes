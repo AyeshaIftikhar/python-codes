{
 "cells": [
  {
   "cell_type": "code",
   "execution_count": 5,
   "metadata": {},
   "outputs": [
    {
     "name": "stdout",
     "output_type": "stream",
     "text": [
      "0        1\n",
      "1        0\n",
      "2        1\n",
      "3        4\n",
      "4        0\n",
      "        ..\n",
      "41995    0\n",
      "41996    1\n",
      "41997    7\n",
      "41998    6\n",
      "41999    9\n",
      "Name: label, Length: 42000, dtype: int64\n",
      "(42000, 784)\n",
      "(42000,)\n"
     ]
    },
    {
     "data": {
      "image/png": "[encoded data removed]",
      "text/plain": [
       "<Figure size 504x504 with 1 Axes>"
      ]
     },
     "metadata": {
      "needs_background": "light"
     },
     "output_type": "display_data"
    },
    {
     "name": "stdout",
     "output_type": "stream",
     "text": [
      "3\n"
     ]
    }
   ],
   "source": [
    "import numpy as np\n",
    "import pandas as pd\n",
    "import matplotlib.pyplot as plt\n",
    "\n",
    "data=pd.read_csv(\"train.csv\")\n",
    "#data_test=pd.read_csv(\"test.csv\")\n",
    "data.head()\n",
    "\n",
    "label = data['label']\n",
    "print(label)\n",
    "\n",
    "#drop the label feature and store data in d\n",
    "d= data.drop(\"label\", axis=1)\n",
    "\n",
    "print(d.shape)\n",
    "print(label.shape)\n",
    "\n",
    "plt.figure(figsize = (7,7))\n",
    "idx=90\n",
    "\n",
    "grid_data=d.iloc[idx].to_numpy().reshape(28,28)\n",
    "plt.imshow(grid_data, interpolation= \"none\", cmap=\"Greys\")\n",
    "plt.show()\n",
    "\n",
    "print(label[idx])"
   ]
  }
 ],
 "metadata": {
  "kernelspec": {
   "display_name": "Python 3",
   "language": "python",
   "name": "python3"
  },
  "language_info": {
   "codemirror_mode": {
    "name": "ipython",
    "version": 3
   },
   "file_extension": ".py",
   "mimetype": "text/x-python",
   "name": "python",
   "nbconvert_exporter": "python",
   "pygments_lexer": "ipython3",
   "version": "3.7.8"
  }
 },
 "nbformat": 4,
 "nbformat_minor": 4
}
