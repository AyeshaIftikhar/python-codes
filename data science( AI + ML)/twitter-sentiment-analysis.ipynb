{
 "cells": [
  {
   "cell_type": "code",
   "execution_count": 17,
   "metadata": {},
   "outputs": [],
   "source": [
    "from twitter import Twitter,OAuth \n",
    "\n",
    "consumer_key='3kViWlWuPQ9TMnhdDYn7hxmeb'\n",
    "consumer_secret='hPZJmxD5Zhp3BCGPaQ9l1iPZOoEoL6Plmh82CuMlEAn6HkwqB0'\n",
    "access_token_key='3150218942-iblXfu1CcudXwb9Pd8ToxYiQ41tUlDJIKlTAREW'\n",
    "access_token_secret='57GgJYQ3GW8X4Dy9aOCJaW2B2Ba89Se7bfPetiQBts2iE'\n",
    "\n",
    "# initialize api instance\n",
    "twitter_api = Twitter(auth=OAuth(consumer_key,consumer_secret,access_token_key,access_token_secret))\n",
    "\n",
    "# test authentication\n",
    "#print(twitter_api.VerifyCredentials())\n",
    "#twitter_api.statuses.public_timeline()"
   ]
  },
  {
   "cell_type": "code",
   "execution_count": 18,
   "metadata": {},
   "outputs": [],
   "source": [
    "def buildTestSet(search_keyword):\n",
    "    try:\n",
    "        tweets_fetched = twitter_api.GetSearch(search_keyword, count=100)\n",
    "        \n",
    "        print(\"Fetched \" + str(len(tweets_fetched)) + \" tweets for the term \" + search_keyword)\n",
    "\n",
    "        return [{\"text\":status.text, \"label\":None} for status in tweets_fetched]\n",
    "    except:\n",
    "        print(\"Unfortunately, something went wrong..\")\n",
    "        return None"
   ]
  },
  {
   "cell_type": "code",
   "execution_count": null,
   "metadata": {},
   "outputs": [],
   "source": []
  }
 ],
 "metadata": {
  "kernelspec": {
   "display_name": "Python 3",
   "language": "python",
   "name": "python3"
  },
  "language_info": {
   "codemirror_mode": {
    "name": "ipython",
    "version": 3
   },
   "file_extension": ".py",
   "mimetype": "text/x-python",
   "name": "python",
   "nbconvert_exporter": "python",
   "pygments_lexer": "ipython3",
   "version": "3.7.8"
  }
 },
 "nbformat": 4,
 "nbformat_minor": 4
}
