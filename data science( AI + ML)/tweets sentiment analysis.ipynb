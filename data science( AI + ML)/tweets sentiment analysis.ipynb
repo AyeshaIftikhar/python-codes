{
 "cells": [
  {
   "cell_type": "code",
   "execution_count": 8,
   "metadata": {},
   "outputs": [],
   "source": [
    "import nltk\n",
    "from textblob import TextBlob\n"
   ]
  },
  {
   "cell_type": "code",
   "execution_count": 9,
   "metadata": {},
   "outputs": [],
   "source": [
    "import tweepy # twitter api\n"
   ]
  },
  {
   "cell_type": "code",
   "execution_count": 10,
   "metadata": {},
   "outputs": [],
   "source": [
    "import re # regex for cleaning the tweets\n",
    "import pandas as pd\n",
    "import numpy as np"
   ]
  },
  {
   "cell_type": "code",
   "execution_count": 11,
   "metadata": {},
   "outputs": [],
   "source": [
    "# Twitter Api Credentials\n",
    "consumer_key =\"3kViWlWuPQ9TMnhdDYn7hxmeb\"\n",
    "consumer_secret = \"hPZJmxD5Zhp3BCGPaQ9l1iPZOoEoL6Plmh82CuMlEAn6HkwqB0\"\n",
    "access_token = \"3150218942-iblXfu1CcudXwb9Pd8ToxYiQ41tUlDJIKlTAREW\"\n",
    "access_token_secret = \"57GgJYQ3GW8X4Dy9aOCJaW2B2Ba89Se7bfPetiQBts2iE\""
   ]
  },
  {
   "cell_type": "code",
   "execution_count": 12,
   "metadata": {},
   "outputs": [],
   "source": [
    "#Function to access twitter api\n",
    "def twitter():\n",
    "    # Creating the authentication object\n",
    "    auth = tweepy.OAuthHandler(consumer_key, consumer_secret) \n",
    "    # Setting your access token and secret\n",
    "    auth.set_access_token(access_token, access_token_secret) \n",
    "    # Creating the API object while passing in auth information\n",
    "    api = tweepy.API(auth, wait_on_rate_limit = True)  \n",
    "    return api"
   ]
  },
  {
   "cell_type": "code",
   "execution_count": 7,
   "metadata": {},
   "outputs": [
    {
     "name": "stdout",
     "output_type": "stream",
     "text": [
      "10 recent tweets:\n",
      "\n",
      "اہلِ کشمیر کیلئےخودارادیت کاحق سلامتی کونسل کیجانب سےاورعالمی قانون کےتحت  تسلیم شدہ ہے۔ہم کشمیری عوام کوجو ہندوتوا… https://t.co/v3abXMAYSa\n",
      "\n",
      "آج ہم یومِ الحاقِ پاکستان کے تاریخی موقع کو یاد کرتے ہیں جب اہلِ کشمیر نے پاکستان کے ساتھ الحاق کی قرارداد منظور کی… https://t.co/wWpDzJt8PG\n",
      "\n",
      "Kashmiris right of self-determination is recognised by the UNSC &amp; under international law. We will continue to figh… https://t.co/CPizgGOQm2\n",
      "\n",
      "Today we  commemorate the historic occasion of Youm-i-Ilhaq-e-Pakistan, when Kashmiris passed a resolution for acce… https://t.co/7E12skIk02\n",
      "\n",
      "عالمی ہوائی سفر پرعائد بڑی بندشوں کے باوجود ہم نےبیرون ملک پھنسے اپنےشہریوں اور سمندرپار کام کرنے والےپاکستانیوں کو… https://t.co/uVYBerHbAq\n",
      "\n",
      "Despite massive disruptions in global air travel, we have fulfilled our promise of bringing back stranded Pakistani… https://t.co/sqdaFmPWEm\n",
      "\n",
      "قوم سےمیری اپیل ہےکہ اس مثبت رجحان کے تسلسل کیلئےحفاظتی تدابیر پرعملدرآمدجاری رکھے۔عیدالاضحیٰ کےموقع پرسادگی اپنائی… https://t.co/UrmTIEvIGJ\n",
      "\n",
      "ہمارےبدقسمت ہمسائےبھارت کےبرعکس پاکستان ان خوش قسمت ممالک میں شامل ہےجہاں اسپتالوں خصوصاًانتہائی نگہداشت کےشعبہ جات… https://t.co/ulfJNqaypM\n",
      "\n",
      "I urge the nation to continue observing SOPs essential to sustain our positive trend. Eid ul Azha must be celebrate… https://t.co/2ULwhPjL8x\n",
      "\n",
      "Pak is amongst the fortunate countries where COVID 19 cases in hospitals, esp in intensive care &amp; death rate have g… https://t.co/tVm3queM4S\n",
      "\n"
     ]
    }
   ],
   "source": [
    "#getting tweets\n",
    "# Creating tw object\n",
    "tw = twitter()\n",
    "# Extracting ImranKhan tweets\n",
    "search = tw.user_timeline(screen_name=\"ImranKhanPTI\", count = 200, lang =\"en\")\n",
    "#  Printing last 10 tweets\n",
    "print(\"10 recent tweets:\\n\")\n",
    "for tweets in search[:10]:\n",
    "    print(tweets.text + '\\n')"
   ]
  },
  {
   "cell_type": "code",
   "execution_count": 8,
   "metadata": {},
   "outputs": [
    {
     "data": {
      "text/html": [
       "<div>\n",
       "<style scoped>\n",
       "    .dataframe tbody tr th:only-of-type {\n",
       "        vertical-align: middle;\n",
       "    }\n",
       "\n",
       "    .dataframe tbody tr th {\n",
       "        vertical-align: top;\n",
       "    }\n",
       "\n",
       "    .dataframe thead th {\n",
       "        text-align: right;\n",
       "    }\n",
       "</style>\n",
       "<table border=\"1\" class=\"dataframe\">\n",
       "  <thead>\n",
       "    <tr style=\"text-align: right;\">\n",
       "      <th></th>\n",
       "      <th>Tweets</th>\n",
       "    </tr>\n",
       "  </thead>\n",
       "  <tbody>\n",
       "    <tr>\n",
       "      <th>0</th>\n",
       "      <td>اہلِ کشمیر کیلئےخودارادیت کاحق سلامتی کونسل کی...</td>\n",
       "    </tr>\n",
       "    <tr>\n",
       "      <th>1</th>\n",
       "      <td>آج ہم یومِ الحاقِ پاکستان کے تاریخی موقع کو یا...</td>\n",
       "    </tr>\n",
       "    <tr>\n",
       "      <th>2</th>\n",
       "      <td>Kashmiris right of self-determination is recog...</td>\n",
       "    </tr>\n",
       "    <tr>\n",
       "      <th>3</th>\n",
       "      <td>Today we  commemorate the historic occasion of...</td>\n",
       "    </tr>\n",
       "    <tr>\n",
       "      <th>4</th>\n",
       "      <td>عالمی ہوائی سفر پرعائد بڑی بندشوں کے باوجود ہم...</td>\n",
       "    </tr>\n",
       "    <tr>\n",
       "      <th>5</th>\n",
       "      <td>Despite massive disruptions in global air trav...</td>\n",
       "    </tr>\n",
       "    <tr>\n",
       "      <th>6</th>\n",
       "      <td>قوم سےمیری اپیل ہےکہ اس مثبت رجحان کے تسلسل کی...</td>\n",
       "    </tr>\n",
       "    <tr>\n",
       "      <th>7</th>\n",
       "      <td>ہمارےبدقسمت ہمسائےبھارت کےبرعکس پاکستان ان خوش...</td>\n",
       "    </tr>\n",
       "    <tr>\n",
       "      <th>8</th>\n",
       "      <td>I urge the nation to continue observing SOPs e...</td>\n",
       "    </tr>\n",
       "    <tr>\n",
       "      <th>9</th>\n",
       "      <td>Pak is amongst the fortunate countries where C...</td>\n",
       "    </tr>\n",
       "  </tbody>\n",
       "</table>\n",
       "</div>"
      ],
      "text/plain": [
       "                                              Tweets\n",
       "0  اہلِ کشمیر کیلئےخودارادیت کاحق سلامتی کونسل کی...\n",
       "1  آج ہم یومِ الحاقِ پاکستان کے تاریخی موقع کو یا...\n",
       "2  Kashmiris right of self-determination is recog...\n",
       "3  Today we  commemorate the historic occasion of...\n",
       "4  عالمی ہوائی سفر پرعائد بڑی بندشوں کے باوجود ہم...\n",
       "5  Despite massive disruptions in global air trav...\n",
       "6  قوم سےمیری اپیل ہےکہ اس مثبت رجحان کے تسلسل کی...\n",
       "7  ہمارےبدقسمت ہمسائےبھارت کےبرعکس پاکستان ان خوش...\n",
       "8  I urge the nation to continue observing SOPs e...\n",
       "9  Pak is amongst the fortunate countries where C..."
      ]
     },
     "execution_count": 8,
     "metadata": {},
     "output_type": "execute_result"
    }
   ],
   "source": [
    "#creating dataframe\n",
    "# Converting into dataframe (Column name Tweets)\n",
    "df = pd.DataFrame([tweets.text for tweets in search], columns=['Tweets'])\n",
    "df.head(10)"
   ]
  },
  {
   "cell_type": "code",
   "execution_count": 9,
   "metadata": {},
   "outputs": [],
   "source": [
    "# Cleaning the tweets\n",
    "# Creating a function called clean. removing hyperlink, #, RT, @mentions\n",
    "def clean(x):\n",
    " x = re.sub(r'^RT[\\s]+', '', x)\n",
    " x = re.sub(r'https?:\\/\\/.*[\\r\\n]*', '', x)\n",
    " x = re.sub(r'#', '', x)\n",
    " x = re.sub(r'@[A-Za-z0–9]+', '', x) \n",
    " return x\n",
    "df['Tweets'] = df['Tweets'].apply(clean)"
   ]
  },
  {
   "cell_type": "code",
   "execution_count": null,
   "metadata": {},
   "outputs": [],
   "source": []
  },
  {
   "cell_type": "code",
   "execution_count": 10,
   "metadata": {},
   "outputs": [
    {
     "name": "stdout",
     "output_type": "stream",
     "text": [
      "0      0.000000\n",
      "1      0.000000\n",
      "2      0.142857\n",
      "3      0.000000\n",
      "4      0.000000\n",
      "5      0.000000\n",
      "6      0.000000\n",
      "7      0.000000\n",
      "8      0.113636\n",
      "9      0.400000\n",
      "10     0.000000\n",
      "11     0.000000\n",
      "12     0.000000\n",
      "13     0.000000\n",
      "14     0.000000\n",
      "15     0.342857\n",
      "16    -0.155556\n",
      "17    -0.500000\n",
      "18     0.000000\n",
      "19     0.000000\n",
      "20     0.400000\n",
      "21     0.050000\n",
      "22     0.000000\n",
      "23     0.000000\n",
      "24    -0.037500\n",
      "25    -0.125000\n",
      "26     0.000000\n",
      "27     0.800000\n",
      "28     0.000000\n",
      "29     0.421429\n",
      "         ...   \n",
      "170    0.000000\n",
      "171    0.000000\n",
      "172    0.000000\n",
      "173   -0.007639\n",
      "174   -0.020000\n",
      "175    0.000000\n",
      "176    0.000000\n",
      "177    0.000000\n",
      "178    0.000000\n",
      "179    0.000000\n",
      "180    0.500000\n",
      "181    0.053333\n",
      "182   -0.033333\n",
      "183    0.000000\n",
      "184    0.000000\n",
      "185    0.000000\n",
      "186    0.000000\n",
      "187    0.000000\n",
      "188    0.000000\n",
      "189    0.166667\n",
      "190    0.000000\n",
      "191    0.325000\n",
      "192    0.000000\n",
      "193    0.000000\n",
      "194    0.000000\n",
      "195   -0.025000\n",
      "196    0.000000\n",
      "197    0.100000\n",
      "198    0.000000\n",
      "199    0.000000\n",
      "Name: polarity, Length: 200, dtype: float64\n",
      "0      0.000000\n",
      "1      0.000000\n",
      "2      0.267857\n",
      "3      0.000000\n",
      "4      0.000000\n",
      "5      0.333333\n",
      "6      0.000000\n",
      "7      0.000000\n",
      "8      0.422727\n",
      "9      0.700000\n",
      "10     0.000000\n",
      "11     0.000000\n",
      "12     0.000000\n",
      "13     0.000000\n",
      "14     0.000000\n",
      "15     0.667857\n",
      "16     0.288889\n",
      "17     0.500000\n",
      "18     0.000000\n",
      "19     0.000000\n",
      "20     0.900000\n",
      "21     0.400000\n",
      "22     0.000000\n",
      "23     0.000000\n",
      "24     0.437500\n",
      "25     0.416667\n",
      "26     0.000000\n",
      "27     1.000000\n",
      "28     0.000000\n",
      "29     0.658730\n",
      "         ...   \n",
      "170    0.500000\n",
      "171    0.000000\n",
      "172    0.000000\n",
      "173    0.245139\n",
      "174    0.570000\n",
      "175    0.000000\n",
      "176    0.250000\n",
      "177    0.000000\n",
      "178    0.000000\n",
      "179    0.000000\n",
      "180    0.900000\n",
      "181    0.366667\n",
      "182    0.616667\n",
      "183    0.000000\n",
      "184    0.000000\n",
      "185    0.000000\n",
      "186    0.000000\n",
      "187    0.000000\n",
      "188    0.000000\n",
      "189    0.333333\n",
      "190    0.000000\n",
      "191    0.500000\n",
      "192    0.000000\n",
      "193    0.000000\n",
      "194    0.000000\n",
      "195    0.450000\n",
      "196    0.000000\n",
      "197    0.400000\n",
      "198    0.000000\n",
      "199    0.000000\n",
      "Name: subjectivity, Length: 200, dtype: float64\n"
     ]
    }
   ],
   "source": [
    "#sentiment analysis\n",
    "polarity = lambda x: TextBlob(x).sentiment.polarity\n",
    "subjectivity = lambda x: TextBlob(x).sentiment.subjectivity\n",
    "df['polarity'] = df['Tweets'].apply(polarity)\n",
    "print(df['polarity'])\n",
    "df['subjectivity'] = df['Tweets'].apply(subjectivity)\n",
    "print(df['subjectivity'])"
   ]
  },
  {
   "cell_type": "code",
   "execution_count": 12,
   "metadata": {},
   "outputs": [
    {
     "data": {
      "image/png": "[encoded data removed]",
      "text/plain": [
       "<Figure size 720x576 with 1 Axes>"
      ]
     },
     "metadata": {
      "needs_background": "light"
     },
     "output_type": "display_data"
    }
   ],
   "source": [
    "#data visualization\n",
    "# Let’s plot the results\n",
    "import matplotlib.pyplot as plt\n",
    "%matplotlib inline\n",
    "plt.rcParams['figure.figsize'] = [10, 8]\n",
    "for index, Tweets in enumerate(df.index):\n",
    " x = df.polarity.loc[Tweets]\n",
    " y = df.subjectivity.loc[Tweets]\n",
    " plt.scatter(x, y, color='blue')\n",
    " \n",
    " \n",
    "plt.title('Sentiment Analysis', fontsize = 20)\n",
    "plt.xlabel('← Negative — — — — — — Positive →', fontsize=15)\n",
    "plt.ylabel('← Facts — — — — — — — Opinions →', fontsize=15)\n",
    "plt.show()"
   ]
  },
  {
   "cell_type": "code",
   "execution_count": 13,
   "metadata": {},
   "outputs": [
    {
     "name": "stdout",
     "output_type": "stream",
     "text": [
      "0      0\n",
      "1      0\n",
      "2      1\n",
      "3      0\n",
      "4      0\n",
      "5      0\n",
      "6      0\n",
      "7      0\n",
      "8      1\n",
      "9      1\n",
      "10     0\n",
      "11     0\n",
      "12     0\n",
      "13     0\n",
      "14     0\n",
      "15     1\n",
      "16    -1\n",
      "17    -1\n",
      "18     0\n",
      "19     0\n",
      "20     1\n",
      "21     1\n",
      "22     0\n",
      "23     0\n",
      "24    -1\n",
      "25    -1\n",
      "26     0\n",
      "27     1\n",
      "28     0\n",
      "29     1\n",
      "      ..\n",
      "170    0\n",
      "171    0\n",
      "172    0\n",
      "173   -1\n",
      "174   -1\n",
      "175    0\n",
      "176    0\n",
      "177    0\n",
      "178    0\n",
      "179    0\n",
      "180    1\n",
      "181    1\n",
      "182   -1\n",
      "183    0\n",
      "184    0\n",
      "185    0\n",
      "186    0\n",
      "187    0\n",
      "188    0\n",
      "189    1\n",
      "190    0\n",
      "191    1\n",
      "192    0\n",
      "193    0\n",
      "194    0\n",
      "195   -1\n",
      "196    0\n",
      "197    1\n",
      "198    0\n",
      "199    0\n",
      "Name: analysis, Length: 200, dtype: int64\n"
     ]
    }
   ],
   "source": [
    "# Creating function for calculating positive, negative and neutral\n",
    "# More than 1 --> Positive, equal to 0 --> neutral and less than 0 --> Negative\n",
    "def ratio(x):\n",
    " if x > 0:\n",
    "     return 1\n",
    " elif x == 0:\n",
    "     return 0\n",
    " else:\n",
    "     return -1\n",
    "df['analysis'] = df['polarity'].apply(ratio)\n",
    "print(df['analysis'])"
   ]
  },
  {
   "cell_type": "code",
   "execution_count": 14,
   "metadata": {},
   "outputs": [
    {
     "data": {
      "text/plain": [
       " 0    139\n",
       " 1     40\n",
       "-1     21\n",
       "Name: analysis, dtype: int64"
      ]
     },
     "execution_count": 14,
     "metadata": {},
     "output_type": "execute_result"
    }
   ],
   "source": [
    "df['analysis'].value_counts()"
   ]
  },
  {
   "cell_type": "code",
   "execution_count": 15,
   "metadata": {},
   "outputs": [
    {
     "data": {
      "image/png": "[encoded data removed]",
      "text/plain": [
       "<Figure size 720x576 with 1 Axes>"
      ]
     },
     "metadata": {
      "needs_background": "light"
     },
     "output_type": "display_data"
    }
   ],
   "source": [
    "# Plotting\n",
    "df['analysis'].value_counts().plot(kind = 'bar')\n",
    "plt.show()"
   ]
  },
  {
   "cell_type": "code",
   "execution_count": null,
   "metadata": {},
   "outputs": [],
   "source": []
  }
 ],
 "metadata": {
  "kernelspec": {
   "display_name": "Python 3",
   "language": "python",
   "name": "python3"
  },
  "language_info": {
   "codemirror_mode": {
    "name": "ipython",
    "version": 3
   },
   "file_extension": ".py",
   "mimetype": "text/x-python",
   "name": "python",
   "nbconvert_exporter": "python",
   "pygments_lexer": "ipython3",
   "version": "3.7.8"
  }
 },
 "nbformat": 4,
 "nbformat_minor": 2
}
